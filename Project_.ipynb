{
 "cells": [
  {
   "cell_type": "code",
   "execution_count": null,
   "metadata": {
    "id": "r66s3S8Z5sPG"
   },
   "outputs": [],
   "source": [
    "#!pip install dash"
   ]
  },
  {
   "cell_type": "code",
   "execution_count": null,
   "metadata": {
    "colab": {
     "base_uri": "https://localhost:8080/"
    },
    "id": "1JDgwAWT56Fz",
    "outputId": "73e54361-eb6f-49ef-f0dd-6c9f93a19e2c"
   },
   "outputs": [],
   "source": [
    "#!pip install dash_bootstrap_components "
   ]
  },
  {
   "cell_type": "code",
   "execution_count": null,
   "metadata": {
    "colab": {
     "base_uri": "https://localhost:8080/"
    },
    "id": "oQq7uZq42rBu",
    "outputId": "63ab2b09-2362-4538-9a5e-8a6dd3d8d68a"
   },
   "outputs": [],
   "source": [
    "import pandas as pd\n",
    "import numpy as np\n",
    "import matplotlib.pyplot as plt\n",
    "import dash\n",
    "import dash_core_components as dcc\n",
    "import dash_html_components as html\n",
    "import plotly.express as px\n",
    "import dash_bootstrap_components as dbc\n",
    "import dash\n",
    "from dash import dcc\n",
    "from dash import html\n",
    "\n",
    "from dash.dependencies import Input, Output, State\n",
    "\n",
    "\n",
    "import plotly.offline as pyo\n",
    "import plotly.graph_objs as go\n"
   ]
  },
  {
   "cell_type": "code",
   "execution_count": null,
   "metadata": {
    "id": "fI5bFFnv5uL1"
   },
   "outputs": [],
   "source": [
    "data = pd.read_csv('train.csv')"
   ]
  },
  {
   "cell_type": "code",
   "execution_count": null,
   "metadata": {
    "colab": {
     "base_uri": "https://localhost:8080/",
     "height": 600
    },
    "id": "5zGfz8bnCeTX",
    "outputId": "e0507615-558c-4201-8231-886d6716289e"
   },
   "outputs": [],
   "source": [
    "data.head()"
   ]
  },
  {
   "cell_type": "code",
   "execution_count": null,
   "metadata": {
    "colab": {
     "base_uri": "https://localhost:8080/"
    },
    "id": "48yeHVu2Cj__",
    "outputId": "62a7593c-82e8-4f44-db98-0d64800bdabc"
   },
   "outputs": [],
   "source": [
    "data.shape"
   ]
  },
  {
   "cell_type": "code",
   "execution_count": null,
   "metadata": {
    "colab": {
     "base_uri": "https://localhost:8080/"
    },
    "id": "EGROEA39Cj9J",
    "outputId": "4b292d83-e5dd-4f93-8761-8fa5ebe256ca"
   },
   "outputs": [],
   "source": [
    "data.columns"
   ]
  },
  {
   "cell_type": "code",
   "execution_count": null,
   "metadata": {
    "colab": {
     "base_uri": "https://localhost:8080/"
    },
    "id": "ScmZvApjCj51",
    "outputId": "41a103ad-ca6c-4e8c-d617-f404e7cb24e4"
   },
   "outputs": [],
   "source": [
    "for i in data.columns:\n",
    "    print(i,\"    \",data[i].dtype)"
   ]
  },
  {
   "cell_type": "code",
   "execution_count": null,
   "metadata": {
    "colab": {
     "base_uri": "https://localhost:8080/"
    },
    "id": "yFiag5EgCj1d",
    "outputId": "f34d1f5b-1148-43c2-9d6e-51433e4983f2"
   },
   "outputs": [],
   "source": [
    "data.info()"
   ]
  },
  {
   "cell_type": "code",
   "execution_count": null,
   "metadata": {
    "colab": {
     "base_uri": "https://localhost:8080/",
     "height": 510
    },
    "id": "1WWC7VEsCjz6",
    "outputId": "5ed9e339-addc-4b09-8086-7d10e17e168c"
   },
   "outputs": [],
   "source": [
    "data.describe(include='all')"
   ]
  },
  {
   "cell_type": "code",
   "execution_count": null,
   "metadata": {
    "colab": {
     "base_uri": "https://localhost:8080/"
    },
    "id": "0MHVkfqACjvx",
    "outputId": "bcc91254-b818-490e-b24c-782263c93b3e"
   },
   "outputs": [],
   "source": [
    "state=list(data['State'].unique())\n",
    "state"
   ]
  },
  {
   "cell_type": "code",
   "execution_count": null,
   "metadata": {
    "id": "sThfpBoiCjuJ"
   },
   "outputs": [],
   "source": [
    "data['Year']=pd.DatetimeIndex(data['Ship Date']).year\n",
    "data['Year']=data['Year'].astype(str)"
   ]
  },
  {
   "cell_type": "code",
   "execution_count": null,
   "metadata": {
    "id": "Ti4AoIbhCiy8"
   },
   "outputs": [],
   "source": [
    "data['Year2']=pd.DatetimeIndex(data['Order Date']).year\n",
    "data['Year2']=data['Year2'].astype(str)"
   ]
  },
  {
   "cell_type": "code",
   "execution_count": null,
   "metadata": {
    "colab": {
     "base_uri": "https://localhost:8080/"
    },
    "id": "dHqXFDzkEXyZ",
    "outputId": "24e4793b-8376-4a92-872b-ebf6ec85aac7"
   },
   "outputs": [],
   "source": [
    "data['Year']==data['Year2']"
   ]
  },
  {
   "cell_type": "code",
   "execution_count": null,
   "metadata": {
    "colab": {
     "base_uri": "https://localhost:8080/"
    },
    "id": "xC05k8XNEewZ",
    "outputId": "cd183af7-fd26-4f27-a11b-bdc05c1f6d8f"
   },
   "outputs": [],
   "source": [
    "data.info()"
   ]
  },
  {
   "cell_type": "code",
   "execution_count": null,
   "metadata": {
    "colab": {
     "base_uri": "https://localhost:8080/"
    },
    "id": "DQX9082mE1H5",
    "outputId": "99f8c3c5-1d8a-42f0-a455-f78213af8c7e"
   },
   "outputs": [],
   "source": [
    "categorydict = data.groupby('Category')['Sub-Category'].apply(list).to_dict()\n",
    "categorydict"
   ]
  },
  {
   "cell_type": "code",
   "execution_count": null,
   "metadata": {
    "colab": {
     "base_uri": "https://localhost:8080/",
     "height": 1000
    },
    "id": "h6pn06fqEsq9",
    "outputId": "6fecce52-29f5-444f-9f20-8fc63153e002"
   },
   "outputs": [],
   "source": [
    "state_sales=data.groupby(['State'])['Sales'].sum().reset_index()\n",
    "state_sales"
   ]
  },
  {
   "cell_type": "code",
   "execution_count": null,
   "metadata": {
    "colab": {
     "base_uri": "https://localhost:8080/",
     "height": 423
    },
    "id": "l2Qy5UoiEr2R",
    "outputId": "74c79403-a64d-4e0f-fddb-7bc65832144e"
   },
   "outputs": [],
   "source": [
    "seg=data.groupby(['Segment','State','Category','Sub-Category','Year'])['Sales'].sum().reset_index()\n",
    "seg"
   ]
  },
  {
   "cell_type": "code",
   "execution_count": null,
   "metadata": {
    "id": "DwUuY1X_FeP_"
   },
   "outputs": [],
   "source": [
    "##dropdown\n",
    "\n",
    "dictionary = data.groupby('State')['City'].apply(list).to_dict()\n",
    "categorydict = data.groupby('Category')['Sub-Category'].apply(list).to_dict()\n",
    "\n",
    "seg=data['Segment'].unique()\n",
    "seglist=list(seg)\n",
    "\n",
    "Year=data['Year'].unique()"
   ]
  },
  {
   "cell_type": "code",
   "execution_count": null,
   "metadata": {
    "colab": {
     "base_uri": "https://localhost:8080/"
    },
    "id": "Ctz_pbXvFyuX",
    "outputId": "e22d76af-7bf2-418a-dbdc-3db783e8fb52",
    "scrolled": true
   },
   "outputs": [],
   "source": [
    "# external_stylesheets = ['https://codepen.io/chriddyp/pen/bWLwgP.css']\n",
    "app=dash.Dash(__name__)\n",
    "app.config.suppress_callback_exceptions = True\n",
    "\n",
    "\n",
    "app.layout=html.Div(children=[html.H1('UNITED STATES SALES - STATE WISE ANALYSIS',style={'textAlign':'center','color':'#503D36','font-size':24}),\n",
    "\n",
    "                              dcc.Graph(id='Statesales',figure=px.bar(state_sales, x='State', y='Sales')),\n",
    "                              #dbc.CardBody([\n",
    "                                  html.Label([\n",
    "                                     html.H3( 'STATE'), html.Br(),dcc.Dropdown(id='state',options=[{'label':i,'value':i} for i in dictionary.keys()],placeholder='select state',)                                \n",
    "                                  ]),\n",
    "\n",
    "\n",
    "\n",
    "\n",
    "                                  \n",
    "                              #],style={\"display\": \"flex\", \"flexWrap\": \"wrap\", 'align-items':'center'}),\n",
    "                            \n",
    "                       \n",
    "   \n",
    "                          \n",
    "\n",
    "     html.Div([  \n",
    "        html.Div([\n",
    "            dcc.Graph(id=\"salespercity\")\n",
    "        ], className=\"six columns\"),\n",
    "     ], className=\"row\"),\n",
    "       \n",
    "  \n",
    "       \n",
    "# html.Div([       \n",
    "html.Label([\n",
    "    html.Br(),\n",
    "html.H3('CITY'),html.Br(), dcc.Dropdown(id='city',placeholder='select city',)\n",
    "]), \n",
    "# ]),\n",
    "       \n",
    "\n",
    "html.Div([  \n",
    "        html.Div([\n",
    "            dcc.Graph(id=\"salespercategory\")\n",
    "        ], className=\"six columns\"),\n",
    "    ], className=\"row\"),\n",
    "                              \n",
    "html.Label([\n",
    "html.H3('CATEGORY'),html.Br(),dcc.Dropdown(id='category',options=[{'label':i,'value':i} for i in categorydict.keys()],placeholder='select product category',)\n",
    "]),\n",
    "                              \n",
    "\n",
    "                              \n",
    "    html.Div([\n",
    "        html.Div([\n",
    "            html.H3('Sales Per Year'),\n",
    "            dcc.Graph(id=\"salesperyear\")\n",
    "        ], className=\"six columns\"),], className=\"row\"),\n",
    "           \n",
    "           \n",
    "           \n",
    "html.Label([\n",
    "html.H3('YEAR'),html.Br(),dcc.Dropdown(id='year',options=[{'label':i,'value':i} for i in Year],placeholder='select year', )\n",
    "]),\n",
    "\n",
    "           \n",
    "\n",
    "     html.Div([\n",
    "        html.Div([\n",
    "            html.H3('sales per segment'),\n",
    "            dcc.Graph(id=\"salespersegment\")\n",
    "        ], className=\"six columns\"),\n",
    "        \n",
    "    ], className=\"row\"),\n",
    "                              \n",
    "                              \n",
    "                              \n",
    "html.Label([\n",
    "html.H3('SEGMENT'),html.Br(),dcc.Dropdown(id='segment',options=[{'label':i,'value':i} for i in seglist],placeholder='select segment',)\n",
    "]),\n",
    "\n",
    "    \n",
    "\n",
    "        dcc.Graph(id='products')\n",
    "                                 \n",
    "                           \n",
    "])\n",
    "# app.css.append_css({\n",
    "#     'external_url': 'https://codepen.io/chriddyp/pen/bWLwgP.css'\n",
    "# })\n",
    "\n",
    "\n",
    "#------------------------------------------------------------------------------------------------\n",
    "@app.callback(\n",
    "           Output('city','options'),\n",
    "           [dash.dependencies.Input('state','value')])\n",
    "def set_cities_options(selected_country):\n",
    "    return [{'label': i, 'value': i} for i in list(set(dictionary[selected_country]))]\n",
    "\n",
    "\n",
    "\n",
    "@app.callback(\n",
    "    Output('salespercity','figure'),\n",
    "    Input('state','value')\n",
    "    #State(\"salespercity\", 'children')\n",
    ")\n",
    "def spc(state):\n",
    "    percity = data[data['State']==state]\n",
    "    avg_sales = percity.groupby(['State','City'])['Sales'].sum().reset_index()\n",
    "    sales_percity  = px.bar(avg_sales,x='City',y='Sales',color='State',title='Sales State')\n",
    "    return sales_percity\n",
    " \n",
    "    \n",
    "@app.callback(\n",
    "    Output('salespercategory','figure'),\n",
    "    \n",
    "    Input('city','value')\n",
    ")\n",
    "def sales_category(city):\n",
    "    cat_city = data[data['City']==city]\n",
    "    sales = cat_city.groupby(['City','Category'])['Sales'].sum().reset_index()\n",
    "    sales_percategory  = px.bar(sales,x='Category',y='Sales',color='City')\n",
    "    return sales_percategory\n",
    "    \n",
    "\n",
    "    \n",
    "@app.callback(\n",
    "    Output('salesperyear','figure'),\n",
    "    Input('city','value'),\n",
    "    Input('category','value')\n",
    ")  \n",
    "\n",
    "def sales_peryear(city,category):\n",
    "        \n",
    "    \n",
    "    cat_year = data[(data['City']==city) & (data['Category']==category)]\n",
    "    saleyear = cat_year.groupby(['City','Category','Year'])['Sales'].sum().reset_index()\n",
    "    sales_per_year = px.bar(saleyear,x='Year',y='Sales',color='City')\n",
    "    return sales_per_year\n",
    "\n",
    "\n",
    "    \n",
    "@app.callback(\n",
    "    Output('salespersegment','figure'),\n",
    "    Input('city','value'),\n",
    "    Input('category','value'),\n",
    "    Input('year','value'),\n",
    ")\n",
    "def sales_persegment(city,category,year):\n",
    "\n",
    "    seg_sales=data[(data['City']==city) & (data['Category'] ==category) & (data['Year']==year)]\n",
    "    saleseg = seg_sales.groupby(['City','Category','Segment','Year'])['Sales'].sum().reset_index()\n",
    "    sales_per_seg = px.bar(saleseg,x='Segment',y='Sales',color='City')\n",
    "    return sales_per_seg\n",
    "    \n",
    "\n",
    "@app.callback(\n",
    "    Output('products','figure'),\n",
    "\n",
    "    Input('city','value'),Input('category','value'),Input('segment','value'),Input('year','value')\n",
    ")\n",
    "def csub(city,category,segment,year):\n",
    "    #subcat = data[data['Category']==category and data['State']==state]\n",
    "    subcat = data[(data['City']==city) & (data['Category']==category)&(data['Segment']==segment)& (data['Year']==year)] \n",
    "    #avg_cat_sales = subcat.groupby(['Category','Sub-Category'])['Sales'].mean().reset_index()\n",
    "    pro_category = subcat.groupby(['City','Category','Segment','Year','Sub-Category'])['Sales'].sum().reset_index()\n",
    "    sales_percat = px.bar(pro_category,x='Sub-Category',y='Sales')\n",
    "    return sales_percat\n",
    "#----------------------------------------------------------------------------------------------\n",
    "\n",
    "\n",
    "\n",
    "# pyo.plot(app, filename='dashboard.html')\n",
    "if __name__ == '__main__':\n",
    "    app.run_server(debug=False)\n",
    "    "
   ]
  }
 ],
 "metadata": {
  "colab": {
   "provenance": []
  },
  "kernelspec": {
   "display_name": "Python 3 (ipykernel)",
   "language": "python",
   "name": "python3"
  },
  "language_info": {
   "codemirror_mode": {
    "name": "ipython",
    "version": 3
   },
   "file_extension": ".py",
   "mimetype": "text/x-python",
   "name": "python",
   "nbconvert_exporter": "python",
   "pygments_lexer": "ipython3",
   "version": "3.8.12"
  },
  "vscode": {
   "interpreter": {
    "hash": "369f2c481f4da34e4445cda3fffd2e751bd1c4d706f27375911949ba6bb62e1c"
   }
  }
 },
 "nbformat": 4,
 "nbformat_minor": 1
}
